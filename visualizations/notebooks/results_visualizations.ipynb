{
 "cells": [
  {
   "cell_type": "markdown",
   "id": "d5083a5c",
   "metadata": {},
   "source": [
    "# Legal NLP Results & Performance Visualizations\n",
    "\n",
    "This notebook creates publication-quality visualizations for:\n",
    "\n",
    "- Model performance metrics and evaluation results\n",
    "- SHAP analysis and explainability insights  \n",
    "- Clause extraction accuracy and confidence distributions\n",
    "- Comparative analysis of different explainability methods\n",
    "- Training progress and convergence plots\n",
    "\n",
    "**Output**: High-resolution figures for academic presentations and papers."
   ]
  },
  {
   "cell_type": "code",
   "execution_count": null,
   "id": "67c043c6",
   "metadata": {},
   "outputs": [],
   "source": [
    "# Core libraries\n",
    "import matplotlib.pyplot as plt\n",
    "import seaborn as sns\n",
    "import pandas as pd\n",
    "import numpy as np\n",
    "import json\n",
    "from pathlib import Path\n",
    "import sys\n",
    "\n",
    "# Add project paths\n",
    "project_root = Path.cwd().parent.parent\n",
    "sys.path.append(str(project_root))\n",
    "\n",
    "# Set style\n",
    "plt.style.use('seaborn-v0_8')\n",
    "sns.set_palette(\"husl\")\n",
    "\n",
    "# Configuration\n",
    "plt.rcParams.update({\n",
    "    'figure.figsize': (12, 8),\n",
    "    'figure.dpi': 300,\n",
    "    'savefig.dpi': 300,\n",
    "    'savefig.bbox': 'tight',\n",
    "    'font.size': 12,\n",
    "    'axes.titlesize': 16,\n",
    "    'axes.labelsize': 14\n",
    "})\n",
    "\n",
    "# Create output directory\n",
    "output_dir = project_root / 'visualizations' / 'figures'\n",
    "output_dir.mkdir(parents=True, exist_ok=True)\n",
    "\n",
    "# Load project data paths\n",
    "data_dir = project_root / 'data'\n",
    "models_dir = project_root / 'models'\n",
    "results_dir = project_root / 'results'\n",
    "\n",
    "print(\"✓ Results visualization environment configured\")\n",
    "print(f\"📁 Output directory: {output_dir}\")"
   ]
  }
 ],
 "metadata": {
  "language_info": {
   "name": "python"
  }
 },
 "nbformat": 4,
 "nbformat_minor": 5
}
